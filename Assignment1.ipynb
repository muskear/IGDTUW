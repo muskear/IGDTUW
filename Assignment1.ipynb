{
 "cells": [
  {
   "cell_type": "code",
   "execution_count": 1,
   "id": "d85fad85-af11-47fc-a073-380760a42282",
   "metadata": {},
   "outputs": [
    {
     "name": "stdin",
     "output_type": "stream",
     "text": [
      "Enter the first number:  10\n",
      "Enter the second number:  16\n"
     ]
    },
    {
     "name": "stdout",
     "output_type": "stream",
     "text": [
      "The sum of 10.0 and 16.0 is 26.0\n"
     ]
    }
   ],
   "source": [
    "num1 = float(input(\"Enter the first number: \"))\n",
    "num2 = float(input(\"Enter the second number: \"))\n",
    "\n",
    "# Calculate the sum\n",
    "sum = num1 + num2\n",
    "\n",
    "# Print the sum\n",
    "print(f\"The sum of {num1} and {num2} is {sum}\")\n"
   ]
  },
  {
   "cell_type": "code",
   "execution_count": 2,
   "id": "bbe62bd0-4d9f-467b-adac-14b2f83feb4d",
   "metadata": {},
   "outputs": [
    {
     "name": "stdin",
     "output_type": "stream",
     "text": [
      "Enter a number:  5\n"
     ]
    },
    {
     "name": "stdout",
     "output_type": "stream",
     "text": [
      "5 is odd.\n"
     ]
    }
   ],
   "source": [
    "def is_even(number):\n",
    "  return number % 2 == 0\n",
    "\n",
    "# Get user input\n",
    "num = int(input(\"Enter a number: \"))\n",
    "\n",
    "# Check if even using the function\n",
    "if is_even(num):\n",
    "  print(f\"{num} is even.\")\n",
    "else:\n",
    "  print(f\"{num} is odd.\")\n"
   ]
  },
  {
   "cell_type": "code",
   "execution_count": 3,
   "id": "5fd37449-7c66-429a-b337-7be938b4e10e",
   "metadata": {},
   "outputs": [
    {
     "name": "stdin",
     "output_type": "stream",
     "text": [
      "Enter a non-negative number:  5\n"
     ]
    },
    {
     "name": "stdout",
     "output_type": "stream",
     "text": [
      "The factorial of 5 is 120\n"
     ]
    }
   ],
   "source": [
    "def factorial(number):\n",
    "  if number < 0:\n",
    "    raise ValueError(\"Factorial is not defined for negative numbers\")\n",
    "  elif number == 0:\n",
    "    return 1\n",
    "  else:\n",
    "    # Recursive case: factorial(n) = n * factorial(n-1)\n",
    "    return number * factorial(number - 1)\n",
    "\n",
    "# Get user input\n",
    "try:\n",
    "  num = int(input(\"Enter a non-negative number: \"))\n",
    "  # Calculate factorial\n",
    "  result = factorial(num)\n",
    "  print(f\"The factorial of {num} is {result}\")\n",
    "except ValueError as e:\n",
    "  print(e)\n"
   ]
  },
  {
   "cell_type": "code",
   "execution_count": 4,
   "id": "5fd27012-c19b-451b-92a1-f7615c0ea101",
   "metadata": {},
   "outputs": [
    {
     "name": "stdin",
     "output_type": "stream",
     "text": [
      "What is your name?  Muskaan\n"
     ]
    },
    {
     "name": "stdout",
     "output_type": "stream",
     "text": [
      "Hello, Muskaan!\n"
     ]
    }
   ],
   "source": [
    "# Get the user's name\n",
    "name = input(\"What is your name? \")\n",
    "\n",
    "# Create a greeting message\n",
    "greeting = f\"Hello, {name}!\"\n",
    "\n",
    "# Print the greeting message\n",
    "print(greeting)\n"
   ]
  },
  {
   "cell_type": "code",
   "execution_count": 5,
   "id": "1b093dae-2d3b-4dc5-be05-28768ddf1d14",
   "metadata": {},
   "outputs": [
    {
     "name": "stdin",
     "output_type": "stream",
     "text": [
      "Enter the filename (with .txt extension):  Assignment.txt\n",
      "Enter the content to write to the file:  Hello, my name is Muskaan.\n"
     ]
    },
    {
     "name": "stdout",
     "output_type": "stream",
     "text": [
      "Content written to file Assignment.txt.\n"
     ]
    }
   ],
   "source": [
    "def write_to_file(filename, content):\n",
    "  # Open the file in write mode (overwrites existing content)\n",
    "  with open(filename, \"w\") as text_file:\n",
    "    # Write the content to the file\n",
    "    text_file.write(content)\n",
    "\n",
    "# Get user input for filename and content\n",
    "filename = input(\"Enter the filename (with .txt extension): \")\n",
    "content = input(\"Enter the content to write to the file: \")\n",
    "\n",
    "# Write the content to the file\n",
    "write_to_file(filename, content)\n",
    "\n",
    "print(f\"Content written to file {filename}.\")\n"
   ]
  },
  {
   "cell_type": "code",
   "execution_count": 6,
   "id": "3f0c4b0e-e54a-4cb2-9736-5685295be68c",
   "metadata": {},
   "outputs": [
    {
     "name": "stdin",
     "output_type": "stream",
     "text": [
      "Enter the filename (with .txt extension):  Assignment.txt\n"
     ]
    },
    {
     "name": "stdout",
     "output_type": "stream",
     "text": [
      "\n",
      "Content of 'Assignment.txt':\n",
      "\n",
      "Hello, my name is Muskaan.\n"
     ]
    }
   ],
   "source": [
    "def read_from_file(filename):\n",
    "  try:\n",
    "    # Open the file in read mode\n",
    "    with open(filename, \"r\") as text_file:\n",
    "      # Read the content of the file\n",
    "      content = text_file.read()\n",
    "      return content\n",
    "  except FileNotFoundError:\n",
    "    print(f\"Error: File '{filename}' not found.\")\n",
    "    return None\n",
    "\n",
    "# Get the filename from the user\n",
    "filename = input(\"Enter the filename (with .txt extension): \")\n",
    "\n",
    "# Read the content of the file\n",
    "content = read_from_file(filename)\n",
    "\n",
    "# Check if content was read successfully\n",
    "if content:\n",
    "  print(f\"\\nContent of '{filename}':\\n\")\n",
    "  print(content)\n"
   ]
  },
  {
   "cell_type": "code",
   "execution_count": 7,
   "id": "2c8a81d8-cfcb-4401-8dcf-9eaa98f9ace1",
   "metadata": {},
   "outputs": [
    {
     "name": "stdout",
     "output_type": "stream",
     "text": [
      "The length of the string 'This is a sample string.' is 24.\n"
     ]
    }
   ],
   "source": [
    "def string_length(text):\n",
    " \n",
    "  return len(text)\n",
    "\n",
    "# Example usage\n",
    "text = \"This is a sample string.\"\n",
    "length = string_length(text)\n",
    "\n",
    "print(f\"The length of the string '{text}' is {length}.\")\n"
   ]
  },
  {
   "cell_type": "code",
   "execution_count": 8,
   "id": "85d13d7c-be01-4343-bb11-a87ff1defc5b",
   "metadata": {},
   "outputs": [
    {
     "name": "stdout",
     "output_type": "stream",
     "text": [
      "The concatenated string is: Hello World!\n"
     ]
    }
   ],
   "source": [
    "def concatenate_strings(str1, str2):\n",
    "  \n",
    "  return str1 + str2\n",
    "\n",
    "# Example usage (without input)\n",
    "string1 = \"Hello\"\n",
    "string2 = \" World!\"\n",
    "concatenated_string = concatenate_strings(string1, string2)\n",
    "\n",
    "print(f\"The concatenated string is: {concatenated_string}\")\n"
   ]
  },
  {
   "cell_type": "code",
   "execution_count": 9,
   "id": "b89ec667-3328-4002-b47b-643b51614383",
   "metadata": {},
   "outputs": [
    {
     "name": "stdout",
     "output_type": "stream",
     "text": [
      "The substring 'sample' is present in the text.\n"
     ]
    }
   ],
   "source": [
    "def is_substring_present(text, sub_string):\n",
    "\n",
    "  return sub_string in text\n",
    "\n",
    "# Example usage\n",
    "text = \"This is a sample string.\"\n",
    "sub_string = \"sample\"\n",
    "\n",
    "if is_substring_present(text, sub_string):\n",
    "  print(f\"The substring '{sub_string}' is present in the text.\")\n",
    "else:\n",
    "  print(f\"The substring '{sub_string}' is not present in the text.\")\n"
   ]
  },
  {
   "cell_type": "code",
   "execution_count": 10,
   "id": "cd6db7ae-0e82-4612-bbf0-9594982b3407",
   "metadata": {},
   "outputs": [
    {
     "name": "stdin",
     "output_type": "stream",
     "text": [
      "Enter a string:  Muskaan\n"
     ]
    },
    {
     "name": "stdout",
     "output_type": "stream",
     "text": [
      "The string in uppercase is: MUSKAAN\n"
     ]
    }
   ],
   "source": [
    "def convert_to_uppercase(text):\n",
    "\n",
    "  return text.upper()\n",
    "\n",
    "# Get user input\n",
    "text = input(\"Enter a string: \")\n",
    "\n",
    "# Convert to uppercase\n",
    "uppercase_text = convert_to_uppercase(text)\n",
    "\n",
    "# Print the uppercase string\n",
    "print(f\"The string in uppercase is: {uppercase_text}\")\n"
   ]
  },
  {
   "cell_type": "code",
   "execution_count": 11,
   "id": "6f1fa075-98d0-42fb-b5c6-4362a1dcc680",
   "metadata": {},
   "outputs": [
    {
     "name": "stdin",
     "output_type": "stream",
     "text": [
      "Enter the number of terms in the Fibonacci sequence:  10\n"
     ]
    },
    {
     "name": "stdout",
     "output_type": "stream",
     "text": [
      "The first 10 Fibonacci numbers are: [0, 1, 1, 2, 3, 5, 8, 13, 21, 34]\n"
     ]
    }
   ],
   "source": [
    "def fibonacci(n):\n",
    "  \n",
    "  if n < 0:\n",
    "    return []\n",
    "  elif n == 0:\n",
    "    return [0]\n",
    "  elif n == 1:\n",
    "    return [0, 1]\n",
    "  else:\n",
    "    # Initialize the sequence with the first two numbers\n",
    "    sequence = [0, 1]\n",
    "    # Generate the remaining numbers using the recursive formula\n",
    "    for i in range(2, n):\n",
    "      next_number = sequence[i-1] + sequence[i-2]\n",
    "      sequence.append(next_number)\n",
    "    return sequence\n",
    "\n",
    "# Get user input for n\n",
    "n = int(input(\"Enter the number of terms in the Fibonacci sequence: \"))\n",
    "\n",
    "# Generate the first n Fibonacci numbers\n",
    "fibonacci_sequence = fibonacci(n)\n",
    "\n",
    "print(f\"The first {n} Fibonacci numbers are: {fibonacci_sequence}\")\n"
   ]
  },
  {
   "cell_type": "code",
   "execution_count": 13,
   "id": "bb7b8d1b-dfe2-4809-ba6b-6968cf0aed34",
   "metadata": {},
   "outputs": [
    {
     "name": "stdin",
     "output_type": "stream",
     "text": [
      "Enter a non-negative number:  45\n"
     ]
    },
    {
     "name": "stdout",
     "output_type": "stream",
     "text": [
      "The sum of the digits in 45 is: 9\n"
     ]
    }
   ],
   "source": [
    "def sum_of_digits(number):\n",
    "\n",
    "  if number < 0:\n",
    "    return None  # Handle negative numbers (optional)\n",
    "  \n",
    "  sum = 0\n",
    "  # Iterate while the number is not zero\n",
    "  while number > 0:\n",
    "    # Extract the last digit using the modulo operator (%)\n",
    "    digit = number % 10\n",
    "    # Add the digit to the sum\n",
    "    sum += digit\n",
    "    # Remove the last digit from the number using integer division (//)\n",
    "    number //= 10\n",
    "  return sum\n",
    "\n",
    "# Get user input\n",
    "number = int(input(\"Enter a non-negative number: \"))\n",
    "\n",
    "# Calculate the sum of digits\n",
    "digit_sum = sum_of_digits(number)\n",
    "\n",
    "# Print the result\n",
    "if digit_sum is not None:\n",
    "  print(f\"The sum of the digits in {number} is: {digit_sum}\")\n",
    "else:\n",
    "  print(\"Error: Please enter a non-negative number.\")\n"
   ]
  },
  {
   "cell_type": "code",
   "execution_count": 14,
   "id": "56900a4e-d877-4766-bc60-01ca3a96319f",
   "metadata": {},
   "outputs": [
    {
     "name": "stdin",
     "output_type": "stream",
     "text": [
      "Enter your birth year:  2003\n"
     ]
    },
    {
     "name": "stdout",
     "output_type": "stream",
     "text": [
      "Your age is: 21\n"
     ]
    }
   ],
   "source": [
    "from datetime import date\n",
    "\n",
    "# Get the current year\n",
    "current_year = date.today().year\n",
    "\n",
    "# Get user input for birth year\n",
    "try:\n",
    "  birth_year = int(input(\"Enter your birth year: \"))\n",
    "except ValueError:\n",
    "  print(\"Error: Please enter a valid year (integer).\")\n",
    "  exit()\n",
    "\n",
    "# Calculate age (assuming birth year has already happened this year)\n",
    "age = current_year - birth_year\n",
    "\n",
    "# Print the age\n",
    "print(f\"Your age is: {age}\")\n"
   ]
  },
  {
   "cell_type": "code",
   "execution_count": 15,
   "id": "45e56875-3cb5-4e00-93ee-67c18949d872",
   "metadata": {},
   "outputs": [
    {
     "name": "stdin",
     "output_type": "stream",
     "text": [
      "Enter a line (or press Enter to finish):  My name is Muskaan. I am 21 years old.\n",
      "Enter a line (or press Enter to finish):  \n"
     ]
    },
    {
     "name": "stdout",
     "output_type": "stream",
     "text": [
      "\n",
      "Lines you entered:\n",
      "My name is Muskaan. I am 21 years old.\n"
     ]
    }
   ],
   "source": [
    "lines = []\n",
    "while True:\n",
    "  # Prompt the user for input\n",
    "  line = input(\"Enter a line (or press Enter to finish): \")\n",
    "  # Check if the line is empty\n",
    "  if not line:\n",
    "    break\n",
    "  # Append the line to the list\n",
    "  lines.append(line)\n",
    "\n",
    "# Print all the lines\n",
    "if lines:\n",
    "  print(\"\\nLines you entered:\")\n",
    "  for line in lines:\n",
    "    print(line)\n",
    "else:\n",
    "  print(\"No lines entered.\")\n"
   ]
  },
  {
   "cell_type": "code",
   "execution_count": 21,
   "id": "fb4c7710-016e-44fc-b9de-22664a88c61e",
   "metadata": {},
   "outputs": [
    {
     "name": "stdout",
     "output_type": "stream",
     "text": [
      "\n",
      "Content of the CSV file:\n",
      "['1', '2018', '56']\n",
      "['2', '2019', '85']\n",
      "['3', '2020', '32']\n",
      "['4', '2021', '89']\n",
      "['5', '2022', '12']\n",
      "['6', '2023', '18']\n"
     ]
    }
   ],
   "source": [
    "import csv\n",
    "\n",
    "def read_csv_and_print(filename):\n",
    "\n",
    "  try:\n",
    "    # Open the file in read mode\n",
    "    with open(filename, \"r\") as csv_file:\n",
    "      # Create a CSV reader object\n",
    "      csv_reader = csv.reader(csv_file)\n",
    "\n",
    "    \n",
    "      print(\"\\nContent of the CSV file:\")\n",
    "      for row in csv_reader:\n",
    "        print(row)\n",
    "  except FileNotFoundError:\n",
    "    print(f\"Error: File '{filename}' not found.\")\n",
    "\n",
    "\n",
    "filename = \"C:\\\\Users\\\\muska\\\\Desktop\\\\Assignment.csv\"  \n",
    "# Read the CSV file and print data\n",
    "read_csv_and_print(filename)\n"
   ]
  },
  {
   "cell_type": "code",
   "execution_count": 22,
   "id": "b70ccc5f-0261-4fec-8cff-c163ca93a643",
   "metadata": {},
   "outputs": [
    {
     "name": "stdout",
     "output_type": "stream",
     "text": [
      "Character frequencies:\n",
      "T: 1\n",
      "h: 1\n",
      "i: 3\n",
      "s: 4\n",
      " : 4\n",
      "a: 2\n",
      "m: 1\n",
      "p: 1\n",
      "l: 1\n",
      "e: 1\n",
      "t: 1\n",
      "r: 1\n",
      "n: 1\n",
      "g: 1\n",
      ".: 1\n"
     ]
    }
   ],
   "source": [
    "def char_frequency(text):\n",
    "  char_counts = {}\n",
    "  for char in text:\n",
    "    if char in char_counts:\n",
    "      char_counts[char] += 1\n",
    "    else:\n",
    "      char_counts[char] = 1\n",
    "  return char_counts\n",
    "\n",
    "# Example usage\n",
    "text = \"This is a sample string.\"\n",
    "char_freq = char_frequency(text)\n",
    "\n",
    "# Print the character frequencies\n",
    "print(\"Character frequencies:\")\n",
    "for char, count in char_freq.items():\n",
    "  print(f\"{char}: {count}\")\n"
   ]
  },
  {
   "cell_type": "code",
   "execution_count": 23,
   "id": "22ed2239-09e1-41b2-853e-877e0dccf55c",
   "metadata": {},
   "outputs": [
    {
     "name": "stdout",
     "output_type": "stream",
     "text": [
      "The title case of the string is: This Is A Sample String.\n"
     ]
    }
   ],
   "source": [
    "def convert_to_title_case(text):\n",
    "  return text.title()\n",
    "\n",
    "# Example usage\n",
    "text = \"this is a sample string.\"\n",
    "title_text = convert_to_title_case(text)\n",
    "\n",
    "print(f\"The title case of the string is: {title_text}\")\n"
   ]
  },
  {
   "cell_type": "code",
   "execution_count": 24,
   "id": "241e9d5e-1489-4b9f-9fe6-fbc9d21a91fd",
   "metadata": {},
   "outputs": [
    {
     "name": "stdout",
     "output_type": "stream",
     "text": [
      "'listen' and 'silent' are anagrams.\n"
     ]
    }
   ],
   "source": [
    "def are_anagrams(str1, str2):\n",
    "\n",
    "  # Convert strings to lowercase and remove whitespaces\n",
    "  str1 = str1.lower().replace(\" \", \"\")\n",
    "  str2 = str2.lower().replace(\" \", \"\")\n",
    "\n",
    "  # Check if string lengths are equal (anagrams must have the same length)\n",
    "  if len(str1) != len(str2):\n",
    "    return False\n",
    "\n",
    "  # Create character counts for each string\n",
    "  char_counts1 = {}\n",
    "  for char in str1:\n",
    "    if char in char_counts1:\n",
    "      char_counts1[char] += 1\n",
    "    else:\n",
    "      char_counts1[char] = 1\n",
    "\n",
    "  char_counts2 = {}\n",
    "  for char in str2:\n",
    "    if char in char_counts2:\n",
    "      char_counts2[char] += 1\n",
    "    else:\n",
    "      char_counts2[char] = 1\n",
    "\n",
    "  # Compare character counts (anagrams must have the same characters with the same frequency)\n",
    "  return char_counts1 == char_counts2\n",
    "\n",
    "# Example usage\n",
    "string1 = \"listen\"\n",
    "string2 = \"silent\"\n",
    "\n",
    "if are_anagrams(string1, string2):\n",
    "  print(f\"'{string1}' and '{string2}' are anagrams.\")\n",
    "else:\n",
    "  print(f\"'{string1}' and '{string2}' are not anagrams.\")\n"
   ]
  },
  {
   "cell_type": "code",
   "execution_count": 26,
   "id": "3808dbd6-dd42-4cd4-af47-cf1d67929937",
   "metadata": {},
   "outputs": [
    {
     "name": "stdout",
     "output_type": "stream",
     "text": [
      "Original text: This is a string with! punctuation.\n",
      "Text without punctuation: This is a string with punctuation\n"
     ]
    }
   ],
   "source": [
    "def remove_punctuation(text):\n",
    "  punctuation = \".!\\\"#$%&()*+,/:;<=>?@[]\\\\^_`{|}~\"\n",
    "  no_punct_table = str.maketrans('', '', punctuation)\n",
    "  return text.translate(no_punct_table)\n",
    "\n",
    "# Example usage\n",
    "text = \"This is a string with! punctuation.\"\n",
    "text_without_punct = remove_punctuation(text)\n",
    "\n",
    "print(f\"Original text: {text}\")\n",
    "print(f\"Text without punctuation: {text_without_punct}\")\n"
   ]
  },
  {
   "cell_type": "code",
   "execution_count": 31,
   "id": "037b47da-c546-4033-96de-fdc4e8228b51",
   "metadata": {},
   "outputs": [
    {
     "name": "stdout",
     "output_type": "stream",
     "text": [
      "The element 2 appears 3 times in the list.\n"
     ]
    }
   ],
   "source": [
    "def count_occurrences(my_list, element):\n",
    "  count = 0\n",
    "  for item in my_list:\n",
    "    if item == element:\n",
    "      count += 1\n",
    "  return count\n",
    "\n",
    "# Example usage\n",
    "my_list = [1, 2, 2, 3, 1, 2, 4]\n",
    "element_to_count = 2\n",
    "\n",
    "number_of_occurrences = count_occurrences(my_list, element_to_count)\n",
    "print(f\"The element {element_to_count} appears {number_of_occurrences} times in the list.\")\n"
   ]
  },
  {
   "cell_type": "code",
   "execution_count": 32,
   "id": "89021676-6a0e-4516-94b5-7b943280493d",
   "metadata": {},
   "outputs": [
    {
     "name": "stdout",
     "output_type": "stream",
     "text": [
      "The minimum value in the list is: -1\n",
      "The maximum value in the list is: 12\n"
     ]
    }
   ],
   "source": [
    "def find_min_max(number_list):\n",
    "\n",
    "  # Validate input list\n",
    "  if not all(isinstance(num, (int, float)) for num in number_list):\n",
    "    raise TypeError(\"Input list must contain only numbers (integers or floats).\")\n",
    "\n",
    "  # Handle empty list gracefully\n",
    "  if not number_list:\n",
    "    return None\n",
    "\n",
    "  # Initialize minimum and maximum with the first element\n",
    "  min_value = number_list[0]\n",
    "  max_value = number_list[0]\n",
    "\n",
    "  # Iterate through the list and update minimum/maximum\n",
    "  for num in number_list:\n",
    "    if num < min_value:\n",
    "      min_value = num\n",
    "    if num > max_value:\n",
    "      max_value = num\n",
    "\n",
    "  return min_value, max_value\n",
    "\n",
    "# Example usage\n",
    "number_list = [5, 12, 3, -1, 9]\n",
    "\n",
    "try:\n",
    "  min_value, max_value = find_min_max(number_list)\n",
    "  if min_value is not None and max_value is not None:\n",
    "    print(f\"The minimum value in the list is: {min_value}\")\n",
    "    print(f\"The maximum value in the list is: {max_value}\")\n",
    "  else:\n",
    "    print(\"The list is empty.\")\n",
    "except TypeError as e:\n",
    "  print(f\"Error: {e}\")\n"
   ]
  },
  {
   "cell_type": "code",
   "execution_count": 33,
   "id": "1f9d9753-d6f3-4a37-a8e3-391e325bcc4a",
   "metadata": {},
   "outputs": [
    {
     "name": "stdin",
     "output_type": "stream",
     "text": [
      "Enter temperature value:  52\n",
      "Enter unit (C or F):  C\n"
     ]
    },
    {
     "name": "stdout",
     "output_type": "stream",
     "text": [
      "52.00 degrees C is equal to 125.60 degrees F.\n"
     ]
    }
   ],
   "source": [
    "def convert_temperature(temperature, unit):\n",
    "\n",
    "  if unit.upper() == \"C\":\n",
    "    converted_temp = (temperature * 9/5) + 32\n",
    "    converted_unit = \"F\"\n",
    "  elif unit.upper() == \"F\":\n",
    "    converted_temp = (temperature - 32) * 5/9\n",
    "    converted_unit = \"C\"\n",
    "  else:\n",
    "    raise ValueError(\"Invalid temperature unit. Please enter 'C' or 'F'.\")\n",
    "\n",
    "  return converted_temp, converted_unit\n",
    "\n",
    "def main():\n",
    "  \"\"\"Prompts the user for temperature and unit, performs conversion, and prints the result.\"\"\"\n",
    "\n",
    "  while True:\n",
    "    try:\n",
    "      temperature = float(input(\"Enter temperature value: \"))\n",
    "      unit = input(\"Enter unit (C or F): \").upper()\n",
    "      converted_temp, converted_unit = convert_temperature(temperature, unit)\n",
    "      print(f\"{temperature:.2f} degrees {unit} is equal to {converted_temp:.2f} degrees {converted_unit}.\")\n",
    "      break  # Exit the loop after successful conversion\n",
    "    except ValueError as e:\n",
    "      print(f\"Error: {e}\")\n",
    "\n",
    "if __name__ == \"__main__\":\n",
    "  main()\n"
   ]
  },
  {
   "cell_type": "code",
   "execution_count": 34,
   "id": "7f774ebb-bc07-4865-aafd-94652db6df00",
   "metadata": {},
   "outputs": [
    {
     "name": "stdin",
     "output_type": "stream",
     "text": [
      "Enter the first number:  7\n",
      "Enter the second number:  3\n",
      "Enter an operator (+, -, *, /):  +\n"
     ]
    },
    {
     "name": "stdout",
     "output_type": "stream",
     "text": [
      "The result of 7.0 + 3.0 is: 10.0\n"
     ]
    }
   ],
   "source": [
    "def calculate(num1, num2, operator):\n",
    "\n",
    "  if operator == \"+\":\n",
    "    return num1 + num2\n",
    "  elif operator == \"-\":\n",
    "    return num1 - num2\n",
    "  elif operator == \"*\":\n",
    "    return num1 * num2\n",
    "  elif operator == \"/\":\n",
    "    if num2 == 0:\n",
    "      raise ZeroDivisionError(\"Division by zero is not allowed.\")\n",
    "    return num1 / num2\n",
    "  else:\n",
    "    raise ValueError(\"Unsupported operator. Please use +, -, *, or /.\")\n",
    "\n",
    "def main():\n",
    "  \"\"\"Prompts the user for input, performs calculation, and prints the result.\"\"\"\n",
    "\n",
    "  while True:\n",
    "    try:\n",
    "      # Get user input\n",
    "      num1 = float(input(\"Enter the first number: \"))\n",
    "      num2 = float(input(\"Enter the second number: \"))\n",
    "      operator = input(\"Enter an operator (+, -, *, /): \")\n",
    "\n",
    "      # Perform calculation\n",
    "      result = calculate(num1, num2, operator)\n",
    "      print(f\"The result of {num1} {operator} {num2} is: {result}\")\n",
    "      break  # Exit the loop after successful calculation\n",
    "\n",
    "    except (ValueError, ZeroDivisionError) as e:\n",
    "      print(f\"Error: {e}\")\n",
    "      print(\"Please enter valid numbers and a supported operator.\")\n",
    "\n",
    "if __name__ == \"__main__\":\n",
    "  main()\n"
   ]
  },
  {
   "cell_type": "code",
   "execution_count": 43,
   "id": "b6041c53-87eb-4dd4-babb-d76cf1e80c12",
   "metadata": {},
   "outputs": [
    {
     "name": "stdout",
     "output_type": "stream",
     "text": [
      "Does the string start with 'Hello'? Yes\n",
      "Does the string end with 'world!'? Yes\n"
     ]
    }
   ],
   "source": [
    "def check_prefix_suffix(string, prefix, suffix):\n",
    "    starts_with_prefix = string.startswith(prefix)\n",
    "    ends_with_suffix = string.endswith(suffix)\n",
    "    \n",
    "    return starts_with_prefix, ends_with_suffix\n",
    "\n",
    "# Example usage\n",
    "string = \"Hello, world!\"\n",
    "prefix = \"Hello\"\n",
    "suffix = \"world!\"\n",
    "\n",
    "starts_with, ends_with = check_prefix_suffix(string, prefix, suffix)\n",
    "\n",
    "print(f\"Does the string start with '{prefix}'? {'Yes' if starts_with else 'No'}\")\n",
    "print(f\"Does the string end with '{suffix}'? {'Yes' if ends_with else 'No'}\")\n"
   ]
  },
  {
   "cell_type": "code",
   "execution_count": 44,
   "id": "f2cb2192-5ffe-4219-aa41-bf124da036b7",
   "metadata": {},
   "outputs": [
    {
     "name": "stdout",
     "output_type": "stream",
     "text": [
      "The string 'Hello, world!' converted to a list of characters is:\n",
      "['H', 'e', 'l', 'l', 'o', ',', ' ', 'w', 'o', 'r', 'l', 'd', '!']\n"
     ]
    }
   ],
   "source": [
    "def string_to_char_list(string):\n",
    "    return list(string)\n",
    "\n",
    "# Example usage\n",
    "input_string = \"Hello, world!\"\n",
    "char_list = string_to_char_list(input_string)\n",
    "\n",
    "print(f\"The string '{input_string}' converted to a list of characters is:\")\n",
    "print(char_list)\n"
   ]
  },
  {
   "cell_type": "markdown",
   "id": "03068362-716c-42ea-828f-d42dd9fa8a2f",
   "metadata": {},
   "source": [
    "#IGDTUQ"
   ]
  }
 ],
 "metadata": {
  "kernelspec": {
   "display_name": "Python 3 (ipykernel)",
   "language": "python",
   "name": "python3"
  },
  "language_info": {
   "codemirror_mode": {
    "name": "ipython",
    "version": 3
   },
   "file_extension": ".py",
   "mimetype": "text/x-python",
   "name": "python",
   "nbconvert_exporter": "python",
   "pygments_lexer": "ipython3",
   "version": "3.11.5"
  }
 },
 "nbformat": 4,
 "nbformat_minor": 5
}
